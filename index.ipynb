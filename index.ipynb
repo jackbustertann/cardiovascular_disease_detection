{
 "nbformat": 4,
 "nbformat_minor": 2,
 "metadata": {
  "language_info": {
   "name": "python",
   "codemirror_mode": {
    "name": "ipython",
    "version": 3
   },
   "version": "3.7.3-final"
  },
  "orig_nbformat": 2,
  "file_extension": ".py",
  "mimetype": "text/x-python",
  "name": "python",
  "npconvert_exporter": "python",
  "pygments_lexer": "ipython3",
  "version": 3,
  "kernelspec": {
   "name": "python37364bitanaconda3virtualenv8b0ef4735f6b49fd9e8c02207932decd",
   "display_name": "Python 3.7.3 64-bit ('anaconda3': virtualenv)"
  }
 },
 "cells": [
  {
   "cell_type": "code",
   "execution_count": 1,
   "metadata": {},
   "outputs": [],
   "source": [
    "import numpy as np\n",
    "import pandas as pd"
   ]
  },
  {
   "cell_type": "code",
   "execution_count": 2,
   "metadata": {},
   "outputs": [
    {
     "data": {
      "text/html": "<div>\n<style scoped>\n    .dataframe tbody tr th:only-of-type {\n        vertical-align: middle;\n    }\n\n    .dataframe tbody tr th {\n        vertical-align: top;\n    }\n\n    .dataframe thead th {\n        text-align: right;\n    }\n</style>\n<table border=\"1\" class=\"dataframe\">\n  <thead>\n    <tr style=\"text-align: right;\">\n      <th></th>\n      <th>id</th>\n      <th>age</th>\n      <th>gender</th>\n      <th>height</th>\n      <th>weight</th>\n      <th>ap_hi</th>\n      <th>ap_lo</th>\n      <th>cholesterol</th>\n      <th>gluc</th>\n      <th>smoke</th>\n      <th>alco</th>\n      <th>active</th>\n      <th>cardio</th>\n    </tr>\n  </thead>\n  <tbody>\n    <tr>\n      <th>0</th>\n      <td>0</td>\n      <td>18393</td>\n      <td>2</td>\n      <td>168</td>\n      <td>62.0</td>\n      <td>110</td>\n      <td>80</td>\n      <td>1</td>\n      <td>1</td>\n      <td>0</td>\n      <td>0</td>\n      <td>1</td>\n      <td>0</td>\n    </tr>\n    <tr>\n      <th>1</th>\n      <td>1</td>\n      <td>20228</td>\n      <td>1</td>\n      <td>156</td>\n      <td>85.0</td>\n      <td>140</td>\n      <td>90</td>\n      <td>3</td>\n      <td>1</td>\n      <td>0</td>\n      <td>0</td>\n      <td>1</td>\n      <td>1</td>\n    </tr>\n    <tr>\n      <th>2</th>\n      <td>2</td>\n      <td>18857</td>\n      <td>1</td>\n      <td>165</td>\n      <td>64.0</td>\n      <td>130</td>\n      <td>70</td>\n      <td>3</td>\n      <td>1</td>\n      <td>0</td>\n      <td>0</td>\n      <td>0</td>\n      <td>1</td>\n    </tr>\n    <tr>\n      <th>3</th>\n      <td>3</td>\n      <td>17623</td>\n      <td>2</td>\n      <td>169</td>\n      <td>82.0</td>\n      <td>150</td>\n      <td>100</td>\n      <td>1</td>\n      <td>1</td>\n      <td>0</td>\n      <td>0</td>\n      <td>1</td>\n      <td>1</td>\n    </tr>\n    <tr>\n      <th>4</th>\n      <td>4</td>\n      <td>17474</td>\n      <td>1</td>\n      <td>156</td>\n      <td>56.0</td>\n      <td>100</td>\n      <td>60</td>\n      <td>1</td>\n      <td>1</td>\n      <td>0</td>\n      <td>0</td>\n      <td>0</td>\n      <td>0</td>\n    </tr>\n  </tbody>\n</table>\n</div>",
      "text/plain": "   id    age  gender  height  weight  ap_hi  ap_lo  cholesterol  gluc  smoke  \\\n0   0  18393       2     168    62.0    110     80            1     1      0   \n1   1  20228       1     156    85.0    140     90            3     1      0   \n2   2  18857       1     165    64.0    130     70            3     1      0   \n3   3  17623       2     169    82.0    150    100            1     1      0   \n4   4  17474       1     156    56.0    100     60            1     1      0   \n\n   alco  active  cardio  \n0     0       1       0  \n1     0       1       1  \n2     0       0       1  \n3     0       1       1  \n4     0       0       0  "
     },
     "execution_count": 2,
     "metadata": {},
     "output_type": "execute_result"
    }
   ],
   "source": [
    "cardio_data = pd.read_csv('data/cardio_data.csv', sep = ';')\n",
    "cardio_data.head()"
   ]
  },
  {
   "cell_type": "code",
   "execution_count": 3,
   "metadata": {},
   "outputs": [],
   "source": [
    "# changing column names\n",
    "cardio_data.rename(columns = {'ap_hi': 'blood_pressure_max', 'ap_lo': 'blood_pressure_min', 'cholesterol': 'cholesterol_level', 'gluc': 'glucose_level', 'smoke': 'smoking_status', 'alco': 'alcohol_status', 'active': 'activity_level', 'cardio': 'disease'}, inplace = True)\n",
    "# casting datatypes\n",
    "cardio_data['height'] = cardio_data['height'].astype('float')\n",
    "# converting age from days to years\n",
    "cardio_data['age'] = cardio_data['age'] // 365\n",
    "# calculating bmi\n",
    "cardio_data['bmi'] = cardio_data['weight'] / (cardio_data['height'] / 100)**2"
   ]
  },
  {
   "cell_type": "code",
   "execution_count": 4,
   "metadata": {},
   "outputs": [],
   "source": [
    "# changing sign of negative blood pressure values\n",
    "cardio_data['blood_pressure_min'] = cardio_data['blood_pressure_min'].map(lambda x: -1 * x if x < 0 else x)\n",
    "cardio_data['blood_pressure_max'] = cardio_data['blood_pressure_max'].map(lambda x: -1 * x if x < 0 else x)\n",
    "# calculating blood pressure difference\n",
    "cardio_data['blood_pressure_diff'] = cardio_data['blood_pressure_max'] - cardio_data['blood_pressure_min']\n",
    "# dropping rows with diastolic blood pressure > systolic blood pressure\n",
    "cardio_data = cardio_data.loc[cardio_data['blood_pressure_diff'] > 0]\n",
    "# dropping rows with unreasonable bmi values\n",
    "cardio_data = cardio_data.loc[(cardio_data['bmi'] > 10) & (cardio_data['bmi'] < 60)]\n",
    "# dropping rows with unreasonable blood pressure values\n",
    "cardio_data = cardio_data.loc[(cardio_data['blood_pressure_max'] > 70) & (cardio_data['blood_pressure_max'] < 200)]\n",
    "cardio_data = cardio_data.loc[(cardio_data['blood_pressure_min'] > 40) & (cardio_data['blood_pressure_min'] < 160)]\n",
    "# dropping duplicate values\n",
    "cardio_data.drop_duplicates(inplace = True)\n",
    "# dropping id column\n",
    "cardio_data.drop(columns = ['id'], inplace = True)"
   ]
  },
  {
   "cell_type": "code",
   "execution_count": 5,
   "metadata": {},
   "outputs": [],
   "source": [
    "cardio_data.to_csv('data/cardio_data_clean.csv')"
   ]
  },
  {
   "cell_type": "code",
   "execution_count": 6,
   "metadata": {},
   "outputs": [
    {
     "data": {
      "text/html": "<div>\n<style scoped>\n    .dataframe tbody tr th:only-of-type {\n        vertical-align: middle;\n    }\n\n    .dataframe tbody tr th {\n        vertical-align: top;\n    }\n\n    .dataframe thead th {\n        text-align: right;\n    }\n</style>\n<table border=\"1\" class=\"dataframe\">\n  <thead>\n    <tr style=\"text-align: right;\">\n      <th></th>\n      <th>age</th>\n      <th>gender</th>\n      <th>height</th>\n      <th>weight</th>\n      <th>blood_pressure_max</th>\n      <th>blood_pressure_min</th>\n      <th>cholesterol_level</th>\n      <th>glucose_level</th>\n      <th>smoking_status</th>\n      <th>alcohol_status</th>\n      <th>activity_level</th>\n      <th>disease</th>\n      <th>bmi</th>\n      <th>blood_pressure_diff</th>\n    </tr>\n  </thead>\n  <tbody>\n    <tr>\n      <th>0</th>\n      <td>50</td>\n      <td>2</td>\n      <td>168.0</td>\n      <td>62.0</td>\n      <td>110</td>\n      <td>80</td>\n      <td>1</td>\n      <td>1</td>\n      <td>0</td>\n      <td>0</td>\n      <td>1</td>\n      <td>0</td>\n      <td>21.967120</td>\n      <td>30</td>\n    </tr>\n    <tr>\n      <th>1</th>\n      <td>55</td>\n      <td>1</td>\n      <td>156.0</td>\n      <td>85.0</td>\n      <td>140</td>\n      <td>90</td>\n      <td>3</td>\n      <td>1</td>\n      <td>0</td>\n      <td>0</td>\n      <td>1</td>\n      <td>1</td>\n      <td>34.927679</td>\n      <td>50</td>\n    </tr>\n    <tr>\n      <th>2</th>\n      <td>51</td>\n      <td>1</td>\n      <td>165.0</td>\n      <td>64.0</td>\n      <td>130</td>\n      <td>70</td>\n      <td>3</td>\n      <td>1</td>\n      <td>0</td>\n      <td>0</td>\n      <td>0</td>\n      <td>1</td>\n      <td>23.507805</td>\n      <td>60</td>\n    </tr>\n    <tr>\n      <th>3</th>\n      <td>48</td>\n      <td>2</td>\n      <td>169.0</td>\n      <td>82.0</td>\n      <td>150</td>\n      <td>100</td>\n      <td>1</td>\n      <td>1</td>\n      <td>0</td>\n      <td>0</td>\n      <td>1</td>\n      <td>1</td>\n      <td>28.710479</td>\n      <td>50</td>\n    </tr>\n    <tr>\n      <th>4</th>\n      <td>47</td>\n      <td>1</td>\n      <td>156.0</td>\n      <td>56.0</td>\n      <td>100</td>\n      <td>60</td>\n      <td>1</td>\n      <td>1</td>\n      <td>0</td>\n      <td>0</td>\n      <td>0</td>\n      <td>0</td>\n      <td>23.011177</td>\n      <td>40</td>\n    </tr>\n  </tbody>\n</table>\n</div>",
      "text/plain": "   age  gender  height  weight  blood_pressure_max  blood_pressure_min  \\\n0   50       2   168.0    62.0                 110                  80   \n1   55       1   156.0    85.0                 140                  90   \n2   51       1   165.0    64.0                 130                  70   \n3   48       2   169.0    82.0                 150                 100   \n4   47       1   156.0    56.0                 100                  60   \n\n   cholesterol_level  glucose_level  smoking_status  alcohol_status  \\\n0                  1              1               0               0   \n1                  3              1               0               0   \n2                  3              1               0               0   \n3                  1              1               0               0   \n4                  1              1               0               0   \n\n   activity_level  disease        bmi  blood_pressure_diff  \n0               1        0  21.967120                   30  \n1               1        1  34.927679                   50  \n2               0        1  23.507805                   60  \n3               1        1  28.710479                   50  \n4               0        0  23.011177                   40  "
     },
     "execution_count": 6,
     "metadata": {},
     "output_type": "execute_result"
    }
   ],
   "source": [
    "cardio_data = pd.read_csv('data/cardio_data_clean.csv').drop(columns = ['Unnamed: 0'])\n",
    "cardio_data.head()"
   ]
  },
  {
   "cell_type": "code",
   "execution_count": 112,
   "metadata": {},
   "outputs": [
    {
     "data": {
      "text/plain": "0    0.506\n1    0.494\nName: disease, dtype: float64"
     },
     "execution_count": 112,
     "metadata": {},
     "output_type": "execute_result"
    }
   ],
   "source": [
    "cardio_data['disease'].value_counts(normalize = True).round(3)\n",
    "# very marginal class imbalance -> downsample minority class"
   ]
  },
  {
   "cell_type": "code",
   "execution_count": 114,
   "metadata": {},
   "outputs": [],
   "source": [
    "# downsampling minority class\n",
    "no_disease = cardio_data.loc[cardio_data['disease'] == 0]\n",
    "disease = cardio_data.loc[cardio_data['disease'] == 1]\n",
    "no_disease_reduced = no_disease.sample(n = len(disease), random_state = 0)\n",
    "cardio_data = pd.concat([disease, no_disease_reduced], axis = 0)"
   ]
  },
  {
   "cell_type": "code",
   "execution_count": 125,
   "metadata": {},
   "outputs": [
    {
     "data": {
      "text/plain": "gender\n1    0.498\n2    0.505\nName: disease, dtype: float64"
     },
     "execution_count": 125,
     "metadata": {},
     "output_type": "execute_result"
    }
   ],
   "source": [
    "cardio_data.groupby('gender')['disease'].mean().round(3)"
   ]
  },
  {
   "cell_type": "code",
   "execution_count": 126,
   "metadata": {},
   "outputs": [
    {
     "data": {
      "text/plain": "alcohol_status\n0    0.501\n1    0.481\nName: disease, dtype: float64"
     },
     "execution_count": 126,
     "metadata": {},
     "output_type": "execute_result"
    }
   ],
   "source": [
    "cardio_data.groupby('alcohol_status')['disease'].mean().round(3)"
   ]
  },
  {
   "cell_type": "code",
   "execution_count": 127,
   "metadata": {},
   "outputs": [
    {
     "data": {
      "text/plain": "smoking_status\n0    0.503\n1    0.474\nName: disease, dtype: float64"
     },
     "execution_count": 127,
     "metadata": {},
     "output_type": "execute_result"
    }
   ],
   "source": [
    "cardio_data.groupby('smoking_status')['disease'].mean().round(3)"
   ]
  },
  {
   "cell_type": "code",
   "execution_count": 128,
   "metadata": {},
   "outputs": [
    {
     "data": {
      "text/plain": "activity_level\n0    0.538\n1    0.491\nName: disease, dtype: float64"
     },
     "execution_count": 128,
     "metadata": {},
     "output_type": "execute_result"
    }
   ],
   "source": [
    "cardio_data.groupby('activity_level')['disease'].mean().round(3)"
   ]
  },
  {
   "cell_type": "code",
   "execution_count": 129,
   "metadata": {},
   "outputs": [
    {
     "data": {
      "text/plain": "cholesterol_level\n1    0.441\n2    0.601\n3    0.766\nName: disease, dtype: float64"
     },
     "execution_count": 129,
     "metadata": {},
     "output_type": "execute_result"
    }
   ],
   "source": [
    "cardio_data.groupby('cholesterol_level')['disease'].mean().round(3)"
   ]
  },
  {
   "cell_type": "code",
   "execution_count": 130,
   "metadata": {},
   "outputs": [
    {
     "data": {
      "text/plain": "glucose_level\n1    0.481\n2    0.592\n3    0.622\nName: disease, dtype: float64"
     },
     "execution_count": 130,
     "metadata": {},
     "output_type": "execute_result"
    }
   ],
   "source": [
    "cardio_data.groupby('glucose_level')['disease'].mean().round(3)"
   ]
  },
  {
   "cell_type": "code",
   "execution_count": 131,
   "metadata": {},
   "outputs": [
    {
     "data": {
      "text/plain": "age_category\nunder 40    0.229\n40-50       0.393\n50-60       0.534\nover 60     0.700\nName: disease, dtype: float64"
     },
     "execution_count": 131,
     "metadata": {},
     "output_type": "execute_result"
    }
   ],
   "source": [
    "min_age, max_age = cardio_data['age'].min(), cardio_data['age'].max()\n",
    "cardio_data['age_category'] = pd.cut(cardio_data['age'], bins = [min_age,40,50,60,max_age], labels = ['under 40', '40-50', '50-60', 'over 60'])\n",
    "cardio_data.groupby('age_category')['disease'].mean().round(3)"
   ]
  },
  {
   "cell_type": "code",
   "execution_count": 135,
   "metadata": {},
   "outputs": [
    {
     "data": {
      "text/plain": "bmi_zone\nunderweight      0.271\nnormal weight    0.402\noverweight       0.511\nobese            0.629\nName: disease, dtype: float64"
     },
     "execution_count": 135,
     "metadata": {},
     "output_type": "execute_result"
    }
   ],
   "source": [
    "min_bmi, max_bmi = cardio_data['bmi'].min(), cardio_data['bmi'].max()\n",
    "cardio_data['bmi_zone'] = pd.cut(cardio_data['bmi'], bins = [min_bmi,17.5,25,30,max_bmi], labels = ['underweight', 'normal weight', 'overweight', 'obese'])\n",
    "cardio_data.groupby('bmi_zone')['disease'].mean().round(3)"
   ]
  },
  {
   "cell_type": "code",
   "execution_count": 133,
   "metadata": {},
   "outputs": [
    {
     "data": {
      "text/plain": "diastolic_zone\nnormal     0.390\nstage 1    0.745\nstage 2    0.837\nstage 3    0.875\nName: disease, dtype: float64"
     },
     "execution_count": 133,
     "metadata": {},
     "output_type": "execute_result"
    }
   ],
   "source": [
    "min_diastolic_bp, max_diastolic_bp = cardio_data['blood_pressure_min'].min(), cardio_data['blood_pressure_min'].max()\n",
    "cardio_data['diastolic_zone'] = pd.cut(cardio_data['blood_pressure_min'], bins = [min_diastolic_bp,80,90,120,max_diastolic_bp], labels = ['normal', 'stage 1', 'stage 2', 'stage 3'])\n",
    "cardio_data.groupby('diastolic_zone')['disease'].mean().round(3)"
   ]
  },
  {
   "cell_type": "code",
   "execution_count": 134,
   "metadata": {},
   "outputs": [
    {
     "data": {
      "text/plain": "systolic_zone\nnormal     0.322\nstage 1    0.702\nstage 2    0.861\nstage 3    0.843\nName: disease, dtype: float64"
     },
     "execution_count": 134,
     "metadata": {},
     "output_type": "execute_result"
    }
   ],
   "source": [
    "min_systolic_bp, max_systolic_bp = cardio_data['blood_pressure_max'].min(), cardio_data['blood_pressure_max'].max()\n",
    "cardio_data['systolic_zone'] = pd.cut(cardio_data['blood_pressure_max'], bins = [min_systolic_bp,120,140,180,max_systolic_bp], labels = ['normal', 'stage 1', 'stage 2', 'stage 3'])\n",
    "cardio_data.groupby('systolic_zone')['disease'].mean().round(3)"
   ]
  },
  {
   "cell_type": "code",
   "execution_count": null,
   "metadata": {},
   "outputs": [],
   "source": [
    "{'female': 0.498, 'male': 0.505, 'non alcohol drinker': 0.501, 'alcohol drinker': 0.481, 'non active': 0.538, 'active': 0.491, 'normal cholesterol': 0.441, 'high cholesterol': 0.601, 'very high cholesterol': 0.766, 'normal glucose': 0.481, 'high glucose': 0.592, 'very high glucose': 0.622, 'under 40 years': 0.229, '40-50 years': 0.393, '50-60 years': 0.534, 'over 60 years': 0.7, 'underweight': 0.271, 'normal weight': 0.402, 'overweight': 0.511, 'obese': 0.629}"
   ]
  }
 ]
}